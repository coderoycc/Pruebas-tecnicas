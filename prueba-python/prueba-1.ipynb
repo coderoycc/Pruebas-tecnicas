{
 "cells": [
  {
   "cell_type": "markdown",
   "id": "e2a38fac",
   "metadata": {},
   "source": [
    "# Prueba técnica\n",
    "Dado el **csv** de todos los repositorios más rankeados se pide un prograna que muestre una cantidad **N** de repositorios de lenguaje **x** (ambos dados por parametros). Ambos deben ser los mas top. "
   ]
  },
  {
   "cell_type": "code",
   "execution_count": 1,
   "id": "962e6b4b",
   "metadata": {
    "collapsed": true
   },
   "outputs": [
    {
     "data": {
      "text/html": [
       "<div>\n",
       "<style scoped>\n",
       "    .dataframe tbody tr th:only-of-type {\n",
       "        vertical-align: middle;\n",
       "    }\n",
       "\n",
       "    .dataframe tbody tr th {\n",
       "        vertical-align: top;\n",
       "    }\n",
       "\n",
       "    .dataframe thead th {\n",
       "        text-align: right;\n",
       "    }\n",
       "</style>\n",
       "<table border=\"1\" class=\"dataframe\">\n",
       "  <thead>\n",
       "    <tr style=\"text-align: right;\">\n",
       "      <th></th>\n",
       "      <th>rank</th>\n",
       "      <th>item</th>\n",
       "      <th>repo_name</th>\n",
       "      <th>stars</th>\n",
       "      <th>forks</th>\n",
       "      <th>language</th>\n",
       "      <th>repo_url</th>\n",
       "      <th>username</th>\n",
       "      <th>issues</th>\n",
       "      <th>last_commit</th>\n",
       "      <th>description</th>\n",
       "    </tr>\n",
       "  </thead>\n",
       "  <tbody>\n",
       "    <tr>\n",
       "      <th>0</th>\n",
       "      <td>1</td>\n",
       "      <td>top-100-stars</td>\n",
       "      <td>freeCodeCamp</td>\n",
       "      <td>341271</td>\n",
       "      <td>28062</td>\n",
       "      <td>JavaScript</td>\n",
       "      <td>https://github.com/freeCodeCamp/freeCodeCamp</td>\n",
       "      <td>freeCodeCamp</td>\n",
       "      <td>130</td>\n",
       "      <td>2022-02-26T02:54:31Z</td>\n",
       "      <td>freeCodeCamp.org's open-source codebase and cu...</td>\n",
       "    </tr>\n",
       "    <tr>\n",
       "      <th>1</th>\n",
       "      <td>2</td>\n",
       "      <td>top-100-stars</td>\n",
       "      <td>996.ICU</td>\n",
       "      <td>261139</td>\n",
       "      <td>21502</td>\n",
       "      <td>NaN</td>\n",
       "      <td>https://github.com/996icu/996.ICU</td>\n",
       "      <td>996icu</td>\n",
       "      <td>0</td>\n",
       "      <td>2022-02-09T10:53:20Z</td>\n",
       "      <td>Repo for counting stars and contributing. Pres...</td>\n",
       "    </tr>\n",
       "    <tr>\n",
       "      <th>2</th>\n",
       "      <td>3</td>\n",
       "      <td>top-100-stars</td>\n",
       "      <td>free-programming-books</td>\n",
       "      <td>222639</td>\n",
       "      <td>47377</td>\n",
       "      <td>NaN</td>\n",
       "      <td>https://github.com/EbookFoundation/free-progra...</td>\n",
       "      <td>EbookFoundation</td>\n",
       "      <td>27</td>\n",
       "      <td>2022-02-26T01:22:38Z</td>\n",
       "      <td>:books: Freely available programming books</td>\n",
       "    </tr>\n",
       "    <tr>\n",
       "      <th>3</th>\n",
       "      <td>4</td>\n",
       "      <td>top-100-stars</td>\n",
       "      <td>coding-interview-university</td>\n",
       "      <td>210537</td>\n",
       "      <td>57074</td>\n",
       "      <td>NaN</td>\n",
       "      <td>https://github.com/jwasham/coding-interview-un...</td>\n",
       "      <td>jwasham</td>\n",
       "      <td>36</td>\n",
       "      <td>2022-02-25T02:06:15Z</td>\n",
       "      <td>A complete computer science study plan to beco...</td>\n",
       "    </tr>\n",
       "    <tr>\n",
       "      <th>4</th>\n",
       "      <td>5</td>\n",
       "      <td>top-100-stars</td>\n",
       "      <td>vue</td>\n",
       "      <td>193348</td>\n",
       "      <td>31510</td>\n",
       "      <td>JavaScript</td>\n",
       "      <td>https://github.com/vuejs/vue</td>\n",
       "      <td>vuejs</td>\n",
       "      <td>326</td>\n",
       "      <td>2022-02-25T04:57:48Z</td>\n",
       "      <td>🖖 Vue.js is a progressive, incrementally-adopt...</td>\n",
       "    </tr>\n",
       "  </tbody>\n",
       "</table>\n",
       "</div>"
      ],
      "text/plain": [
       "   rank           item                    repo_name   stars  forks  \\\n",
       "0     1  top-100-stars                 freeCodeCamp  341271  28062   \n",
       "1     2  top-100-stars                      996.ICU  261139  21502   \n",
       "2     3  top-100-stars       free-programming-books  222639  47377   \n",
       "3     4  top-100-stars  coding-interview-university  210537  57074   \n",
       "4     5  top-100-stars                          vue  193348  31510   \n",
       "\n",
       "     language                                           repo_url  \\\n",
       "0  JavaScript       https://github.com/freeCodeCamp/freeCodeCamp   \n",
       "1         NaN                  https://github.com/996icu/996.ICU   \n",
       "2         NaN  https://github.com/EbookFoundation/free-progra...   \n",
       "3         NaN  https://github.com/jwasham/coding-interview-un...   \n",
       "4  JavaScript                       https://github.com/vuejs/vue   \n",
       "\n",
       "          username  issues           last_commit  \\\n",
       "0     freeCodeCamp     130  2022-02-26T02:54:31Z   \n",
       "1           996icu       0  2022-02-09T10:53:20Z   \n",
       "2  EbookFoundation      27  2022-02-26T01:22:38Z   \n",
       "3          jwasham      36  2022-02-25T02:06:15Z   \n",
       "4            vuejs     326  2022-02-25T04:57:48Z   \n",
       "\n",
       "                                         description  \n",
       "0  freeCodeCamp.org's open-source codebase and cu...  \n",
       "1  Repo for counting stars and contributing. Pres...  \n",
       "2         :books: Freely available programming books  \n",
       "3  A complete computer science study plan to beco...  \n",
       "4  🖖 Vue.js is a progressive, incrementally-adopt...  "
      ]
     },
     "execution_count": 1,
     "metadata": {},
     "output_type": "execute_result"
    }
   ],
   "source": [
    "import pandas as pd\n",
    "import numpy as np\n",
    "\n",
    "data = pd.read_csv('data.csv')\n",
    "data.head()"
   ]
  },
  {
   "cell_type": "code",
   "execution_count": 2,
   "id": "01ecf580",
   "metadata": {},
   "outputs": [],
   "source": [
    "#Limpiamos los datos que tienen valores no válidos\n",
    "data = data.dropna()"
   ]
  },
  {
   "cell_type": "code",
   "execution_count": 5,
   "id": "effd4efd",
   "metadata": {
    "collapsed": true
   },
   "outputs": [
    {
     "data": {
      "text/plain": [
       "rank                                                           1\n",
       "item                                               top-100-stars\n",
       "repo_name                                           freeCodeCamp\n",
       "stars                                                     341271\n",
       "forks                                                      28062\n",
       "language                                              JavaScript\n",
       "repo_url            https://github.com/freeCodeCamp/freeCodeCamp\n",
       "username                                            freeCodeCamp\n",
       "issues                                                       130\n",
       "last_commit                                 2022-02-26T02:54:31Z\n",
       "description    freeCodeCamp.org's open-source codebase and cu...\n",
       "Name: 0, dtype: object"
      ]
     },
     "execution_count": 5,
     "metadata": {},
     "output_type": "execute_result"
    }
   ],
   "source": [
    "#Observamos los datos que se cuenta\n",
    "data.iloc[0]"
   ]
  },
  {
   "cell_type": "markdown",
   "id": "2920bd72",
   "metadata": {},
   "source": [
    "* Encontramos que los datos se encuentran de manera separada, primero quien más estrellas tiene, luego por el top de lenguajes: \n",
    "    * rank: indica la posición en que se encuentra\n",
    "    * item: indica el concepto de posición (estrellas, lenguaje, forks)\n",
    "    * repo_name: indica el nombre del repositorio"
   ]
  },
  {
   "cell_type": "code",
   "execution_count": 38,
   "id": "f14497f8",
   "metadata": {},
   "outputs": [
    {
     "name": "stdout",
     "output_type": "stream",
     "text": [
      "Intro cantidad de elementos a mostrar( < 60): 10\n",
      "Intro lenguaje a mostrar: C++\n"
     ]
    }
   ],
   "source": [
    "#Obtenemos los datos de entrada: (N: cantidad de elementos, X: lenguaje de progrmación)\n",
    "n = 60\n",
    "while(n >= 60):\n",
    "    n = int(input(\"Intro cantidad de elementos a mostrar( < 60): \"))\n",
    "x = input(\"Intro lenguaje a mostrar: \")"
   ]
  },
  {
   "cell_type": "code",
   "execution_count": 39,
   "id": "5d587349",
   "metadata": {},
   "outputs": [
    {
     "name": "stdout",
     "output_type": "stream",
     "text": [
      "No se encontró el lenguaje proporcionado\n"
     ]
    }
   ],
   "source": [
    "#buscamos los elementos con los parametros encontrados\n",
    "lista = data[ data['item'] == x ].head(n)\n",
    "if lista.shape[0] > 0:\n",
    "    lista = lista[['rank','item','repo_name','language']]\n",
    "    print(lista)\n",
    "else:\n",
    "    print(\"No se encontró el lenguaje proporcionado\")"
   ]
  }
 ],
 "metadata": {
  "kernelspec": {
   "display_name": "Python 3 (ipykernel)",
   "language": "python",
   "name": "python3"
  },
  "language_info": {
   "codemirror_mode": {
    "name": "ipython",
    "version": 3
   },
   "file_extension": ".py",
   "mimetype": "text/x-python",
   "name": "python",
   "nbconvert_exporter": "python",
   "pygments_lexer": "ipython3",
   "version": "3.9.13"
  }
 },
 "nbformat": 4,
 "nbformat_minor": 5
}
